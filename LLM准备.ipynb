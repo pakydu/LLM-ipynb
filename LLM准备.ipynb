{
 "cells": [
  {
   "cell_type": "markdown",
   "metadata": {},
   "source": []
  },
  {
   "cell_type": "markdown",
   "metadata": {},
   "source": [
    "# 安装环境\n",
    "\n",
    "1. 安装miniconda\n",
    "\n",
    "   https://mirrors.tuna.tsinghua.edu.cn/anaconda/miniconda/\n",
    "\n",
    "\n",
    "2. 安装 jupyter notebook\n",
    "\n",
    "   pip  install jupyter notebook\n",
    "\n",
    "3. 设置jupyter notebook的密码\n",
    "\n",
    "   jupyter notebook password  # 这样vscode 就可以连接到jupyter notebook了\n",
    "\n",
    "4. 建立虚拟环境\n",
    "\n",
    "   conda create -n llm310 python=3.10\n",
    "\n",
    "5. 激活虚拟环境\n",
    "\n",
    "   conda activate llm310\n",
    "\n",
    "6. 安装依赖包 #我们使用阿里的百炼 API作为练习平台: https://bailian.console.aliyun.com/\n",
    "\n",
    "   pip install python-dotenv openai langchain dashscope\n",
    "\n",
    "7. 配置环境变量\n",
    "\n",
    "   在用户目录下创建.env文件，内容如下：\n",
    "   ```\n",
    "   OPENAI_API_KEY=<KEY>\n",
    "   ```"
   ]
  },
  {
   "cell_type": "code",
   "execution_count": 74,
   "metadata": {},
   "outputs": [
    {
     "name": "stdout",
     "output_type": "stream",
     "text": [
      "key: <sk-8a2970d003e849e1a680a377eb16d22b>\n",
      "url: https://dashscope.aliyuncs.com/compatible-mode/v1\n"
     ]
    }
   ],
   "source": [
    "import os\n",
    "from dotenv import load_dotenv, find_dotenv\n",
    "\n",
    "def get_openai_key():\n",
    "\t_ = load_dotenv(find_dotenv('.env'))\n",
    "\treturn os.getenv('OPENAI_API_KEY')\n",
    "\n",
    "def get_openai_url():\n",
    "\t_ = load_dotenv(find_dotenv('F:\\jobs\\gw\\AI大模型\\llm\\.env'))\n",
    "\treturn os.getenv('BASE_URL')\n",
    "\n",
    "print(f\"key: {get_openai_key()}\")\n",
    "print(f\"url: {get_openai_url()}\")"
   ]
  },
  {
   "cell_type": "markdown",
   "metadata": {},
   "source": [
    "# 测试赛百炼环境\n"
   ]
  },
  {
   "cell_type": "code",
   "execution_count": null,
   "metadata": {},
   "outputs": [
    {
     "name": "stdout",
     "output_type": "stream",
     "text": [
      "思考过程：\n",
      "嗯，用户问的是9.9和9.11哪个大。看起来是一个小数比较的问题。首先，我得确认这两个数的位数是否对齐，可能用户容易在这里出错。\n",
      "\n",
      "先看整数部分，都是9，所以整数部分一样。接下来比较小数部分。9.9的小数部分是0.9，也就是十分位上的9；而9.11的小数部分是0.11，也就是十分位是1，百分位是1。这里可能会有人误以为9.11更大，因为小数点后有两位数字，但实际上应该将位数统一再比较。\n",
      "\n",
      "正确的做法是把9.9写成9.90，这样十分位是9，百分位是0，而9.11是十分位1，百分位1。这时候比较十分位的话，9.90的十分位是9，比9.11的十分位1大，所以9.90更大，也就是9.9比9.11大。\n",
      "\n",
      "可能用户之前有误解，认为小数点后的位数多就大，但实际上应该逐位比较。或者可能用户是在问日期，比如9月9日和9月11日哪个更晚，但问题里没有提到日期，所以应该只是数值比较。\n",
      "\n",
      "总结下来，答案应该是9.9比9.11大。不过要确保自己理解正确，再检查一遍。比如，换算成分数的话，9.9是99/10，9.11是911/100，比较的时候可以通分，99/10=990/100，明显比911/100大。所以结论没错。\n",
      "最终答案：\n",
      "**答案：9.9比9.11大。**\n",
      "\n",
      "**解析：**  \n",
      "1. **对齐小数位数**：将9.9写成9.90，便于与9.11逐位比较。  \n",
      "2. **逐位比较**：  \n",
      "   - **整数部分**：均为9，相等。  \n",
      "   - **十分位**：9.90的十分位是**9**，9.11的十分位是**1**。因为9 > 1，所以无需比较后续位数，直接得出**9.90 > 9.11**。  \n",
      "\n",
      "**验证**：  \n",
      "- 换算为分数：  \n",
      "  \\( 9.9 = \\frac{99}{10} = \\frac{990}{100} \\)，\\( 9.11 = \\frac{911}{100} \\)。  \n",
      "  显然，\\( \\frac{990}{100} > \\frac{911}{100} \\)。  \n",
      "\n",
      "**结论**：虽然9.11的小数位数更多，但9.9的实际值更大。\n",
      "\n",
      "我是通义千问，阿里巴巴集团旗下的通义实验室自主研发的超大规模语言模型。我能够回答问题、创作文字，比如写故事、写公文、写邮件、写剧本、逻辑推理、编程等等，还能表达观点，玩游戏等。如果你有任何问题或需要帮助，欢迎随时告诉我！\n"
     ]
    }
   ],
   "source": [
    "import os\n",
    "from openai import OpenAI\n",
    "\n",
    "def get_completion(query_txt, temperature=0,is_stream=True):\n",
    "    client = OpenAI(api_key='sk-8a2970d003e849e1a680a377eb16d22b',\n",
    "                base_url = get_openai_url()\n",
    "        )\n",
    "    completion = client.chat.completions.create(\n",
    "        model=\"qwen-plus\",\n",
    "        messages=[\n",
    "            {\"role\": \"user\", \"content\": query_txt},\n",
    "        ],\n",
    "        temperature = temperature,\n",
    "        stream=is_stream,\n",
    "        # stream_options={\"include_usage\": True}\n",
    "    )\n",
    "\n",
    "    if not is_stream:\n",
    "        # print(completion.model_dump_json())\n",
    "        print(completion.choices[0].message.content)\n",
    "    else:\n",
    "        for chunk in completion:\n",
    "            # print(chunk.model_dump_json())\n",
    "            if len(chunk.choices) > 0:\n",
    "                delta = chunk.choices[0].delta\n",
    "                if delta and delta.content:\n",
    "                    # print(f\"id: {chunk.id}, content: {chunk.choices[0].delta.content}\")\n",
    "                    print(chunk.choices[0].delta.content,end=\"\")\n",
    "\n",
    "\n",
    "def get_completion2(prompt, model=\"deepseek-r1\"):\n",
    "    client = OpenAI(api_key='sk-8a2970d003e849e1a680a377eb16d22b',\n",
    "                base_url = get_openai_url()\n",
    "        )\n",
    "    messages = [{\"role\": \"user\", \"content\": prompt}]\n",
    "    completion = client.chat.completions.create(\n",
    "    model=model,\n",
    "    messages=messages,\n",
    "    temperature=0, # 控制模型输出的随机程度\n",
    "    )\n",
    "    # 通过reasoning_content字段打印思考过程\n",
    "    print(\"思考过程：\")\n",
    "    print(completion.choices[0].message.reasoning_content)\n",
    "\n",
    "    # 通过content字段打印最终答案\n",
    "    print(\"最终答案：\")\n",
    "    print(completion.choices[0].message.content)\n",
    "\n",
    "def get_completion_from_messages(messages, model=\"qwen-max\", temperature=0):\n",
    "    client = OpenAI(api_key='sk-8a2970d003e849e1a680a377eb16d22b',\n",
    "                base_url = get_openai_url()\n",
    "        )\n",
    "    completion = client.chat.completions.create(\n",
    "    model=model,\n",
    "    messages=messages,\n",
    "    temperature=temperature, # 控制模型输出的随机程度\n",
    "    )\n",
    "    # print(str(response.choices[0].message))\n",
    "    return completion.choices[0].message[\"content\"]\n",
    "\n",
    "get_completion2(\"9.9和9.11谁大?\")\n",
    "print(\"\")\n",
    "get_completion(\"你是谁?\",is_stream=False)"
   ]
  }
 ],
 "metadata": {
  "kernelspec": {
   "display_name": "llm310",
   "language": "python",
   "name": "llm310"
  },
  "language_info": {
   "codemirror_mode": {
    "name": "ipython",
    "version": 3
   },
   "file_extension": ".py",
   "mimetype": "text/x-python",
   "name": "python",
   "nbconvert_exporter": "python",
   "pygments_lexer": "ipython3",
   "version": "3.10.16"
  }
 },
 "nbformat": 4,
 "nbformat_minor": 2
}
